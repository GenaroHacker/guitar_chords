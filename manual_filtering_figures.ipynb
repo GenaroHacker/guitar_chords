{
  "nbformat": 4,
  "nbformat_minor": 0,
  "metadata": {
    "colab": {
      "provenance": [],
      "authorship_tag": "ABX9TyNoFZse1HgUpkeqb/N3s7z9",
      "include_colab_link": true
    },
    "kernelspec": {
      "name": "python3",
      "display_name": "Python 3"
    },
    "language_info": {
      "name": "python"
    }
  },
  "cells": [
    {
      "cell_type": "markdown",
      "metadata": {
        "id": "view-in-github",
        "colab_type": "text"
      },
      "source": [
        "<a href=\"https://colab.research.google.com/github/GenaroHacker/creating_chord_collection/blob/main/manual_filtering_figures.ipynb\" target=\"_parent\"><img src=\"https://colab.research.google.com/assets/colab-badge.svg\" alt=\"Open In Colab\"/></a>"
      ]
    },
    {
      "cell_type": "code",
      "source": [
        "%%capture\n",
        "#@title Set Up\n",
        "!git clone https://github.com/GenaroHacker/write_imports.git\n",
        "from write_imports.write_imports import write_imports\n",
        "\n",
        "!git clone https://github.com/GenaroHacker/creating_chord_collection.git\n",
        "\n",
        "\n",
        "from creating_chord_collection.collection.resources.scales import scales\n",
        "from creating_chord_collection.collection.resources.transposable_figures import transposable_figures\n",
        "\n",
        "import sqlite3"
      ],
      "metadata": {
        "cellView": "form",
        "id": "94Ibuwzoov1A"
      },
      "execution_count": 1,
      "outputs": []
    },
    {
      "cell_type": "code",
      "source": [
        "\n",
        "\n",
        "\n",
        "# Delete this line to see the new imports\n",
        "%%capture\n",
        "\n",
        "\n",
        "\n",
        "#@title Import Statements\n",
        "#Modules: ['creating_chord_collection', 'write_imports']\n",
        "\n",
        "\n",
        "\n",
        "\n",
        "from creating_chord_collection.builder.director import Director\n",
        "\n",
        "from creating_chord_collection.builder.builders import AbstractBuilder\n",
        "from creating_chord_collection.builder.builders import ShortBuilder\n",
        "from creating_chord_collection.builder.builders import LongBuilder\n",
        "\n",
        "from creating_chord_collection.collection.chord import GuitarChord\n",
        "\n",
        "from creating_chord_collection.collection.collection import ChordCollection\n",
        "\n",
        "\n",
        "\n",
        "from write_imports.write_imports import write_imports\n",
        "\n",
        "from write_imports.LearningPython.BasicExamples.intro_functions import print_hello_world\n",
        "\n",
        "\n",
        "\n",
        "\n",
        "\n",
        "print(write_imports([]))\n",
        "\n",
        "\n",
        "\n",
        "\n"
      ],
      "metadata": {
        "cellView": "form",
        "id": "7ZQWsxX8o3Rk"
      },
      "execution_count": 2,
      "outputs": []
    },
    {
      "cell_type": "code",
      "source": [
        "# @title main loop\n",
        "def contains_invalid_none_sequence(fingers):\n",
        "    found_non_none = False\n",
        "    seen_none_after_non_none = False\n",
        "\n",
        "    for finger in fingers:\n",
        "        if finger is not None:\n",
        "            if seen_none_after_non_none:\n",
        "                # Found a non-None after a None which was after a non-None\n",
        "                return True\n",
        "            found_non_none = True\n",
        "        else:\n",
        "            if found_non_none:\n",
        "                # Mark that we've seen a None after a non-None\n",
        "                seen_none_after_non_none = True\n",
        "\n",
        "    return False\n",
        "\n",
        "def get_user_input():\n",
        "    while True:\n",
        "        user_input = input(\"do you like this guitar chord? (y/n): \").strip().lower()\n",
        "\n",
        "        if user_input in [\"y\", \"n\"]:\n",
        "            return user_input\n",
        "        else:\n",
        "            print(\"y or n only please.\")\n",
        "\n",
        "\n",
        "def main():\n",
        "    # Connect to the SQLite database\n",
        "    conn = sqlite3.connect('/content/creating_chord_collection/my_database.db')\n",
        "    cursor = conn.cursor()\n",
        "\n",
        "    # Select records with NULL status\n",
        "    cursor.execute(\"SELECT * FROM FINGER_ASCENDING WHERE STATUS IS NULL\")\n",
        "    records = cursor.fetchall()\n",
        "\n",
        "    for record in records:\n",
        "        id, _, *fingers = record\n",
        "        # Convert finger positions from string to int, handling None values\n",
        "        fingers = [int(finger) if finger is not None else None for finger in fingers]\n",
        "\n",
        "        # Check if the list contains a 1 and does not have invalid None sequence\n",
        "        if 1 not in fingers or contains_invalid_none_sequence(fingers):\n",
        "            # Automatically reject and update the record, then continue to the next record\n",
        "            cursor.execute(\"UPDATE FINGER_ASCENDING SET STATUS = 'rejected' WHERE ID = ?\", (id,))\n",
        "            conn.commit()\n",
        "            continue\n",
        "\n",
        "        print(f\"Chord Fingers: {fingers}\")\n",
        "\n",
        "        chord = GuitarChord('E', '', transposable_figures, finger_ascending=fingers, starting_fret=1)\n",
        "\n",
        "        # Repeat the process with ShortChordBuilder\n",
        "        builder = ShortBuilder()\n",
        "        director = Director(builder)\n",
        "        director.build_chord(chord)\n",
        "        director.display_image()  # Directly display the image\n",
        "\n",
        "        user_input = get_user_input()\n",
        "\n",
        "        # Update record based on user input\n",
        "        new_status = 'accepted' if user_input == 'y' else 'rejected'\n",
        "        cursor.execute(\"UPDATE FINGER_ASCENDING SET STATUS = ? WHERE ID = ?\", (new_status, id))\n",
        "        conn.commit()\n",
        "\n",
        "    # Close the database connection\n",
        "    conn.close()\n",
        "\n",
        "main()"
      ],
      "metadata": {
        "cellView": "form",
        "id": "ajToGF-Al9EU",
        "outputId": "4de504fc-2a85-456c-ae24-f8c6f38213fd",
        "colab": {
          "base_uri": "https://localhost:8080/",
          "height": 766
        }
      },
      "execution_count": 11,
      "outputs": [
        {
          "output_type": "stream",
          "name": "stdout",
          "text": [
            "Chord Fingers: [1, 2, 1, 3, None, None]\n"
          ]
        },
        {
          "output_type": "display_data",
          "data": {
            "text/plain": [
              "<PIL.Image.Image image mode=RGB size=351x351>"
            ],
            "image/png": "[encoded data removed]"
          },
          "metadata": {}
        },
        {
          "output_type": "error",
          "ename": "KeyboardInterrupt",
          "evalue": "Interrupted by user",
          "traceback": [
            "\u001b[0;31m---------------------------------------------------------------------------\u001b[0m",
            "\u001b[0;31mKeyboardInterrupt\u001b[0m                         Traceback (most recent call last)",
            "\u001b[0;32m<ipython-input-11-e9dba55ab983>\u001b[0m in \u001b[0;36m<cell line: 70>\u001b[0;34m()\u001b[0m\n\u001b[1;32m     68\u001b[0m     \u001b[0mconn\u001b[0m\u001b[0;34m.\u001b[0m\u001b[0mclose\u001b[0m\u001b[0;34m(\u001b[0m\u001b[0;34m)\u001b[0m\u001b[0;34m\u001b[0m\u001b[0;34m\u001b[0m\u001b[0m\n\u001b[1;32m     69\u001b[0m \u001b[0;34m\u001b[0m\u001b[0m\n\u001b[0;32m---> 70\u001b[0;31m \u001b[0mmain\u001b[0m\u001b[0;34m(\u001b[0m\u001b[0;34m)\u001b[0m\u001b[0;34m\u001b[0m\u001b[0;34m\u001b[0m\u001b[0m\n\u001b[0m",
            "\u001b[0;32m<ipython-input-11-e9dba55ab983>\u001b[0m in \u001b[0;36mmain\u001b[0;34m()\u001b[0m\n\u001b[1;32m     58\u001b[0m         \u001b[0mdirector\u001b[0m\u001b[0;34m.\u001b[0m\u001b[0mdisplay_image\u001b[0m\u001b[0;34m(\u001b[0m\u001b[0;34m)\u001b[0m  \u001b[0;31m# Directly display the image\u001b[0m\u001b[0;34m\u001b[0m\u001b[0;34m\u001b[0m\u001b[0m\n\u001b[1;32m     59\u001b[0m \u001b[0;34m\u001b[0m\u001b[0m\n\u001b[0;32m---> 60\u001b[0;31m         \u001b[0muser_input\u001b[0m \u001b[0;34m=\u001b[0m \u001b[0mget_user_input\u001b[0m\u001b[0;34m(\u001b[0m\u001b[0;34m)\u001b[0m\u001b[0;34m\u001b[0m\u001b[0;34m\u001b[0m\u001b[0m\n\u001b[0m\u001b[1;32m     61\u001b[0m \u001b[0;34m\u001b[0m\u001b[0m\n\u001b[1;32m     62\u001b[0m         \u001b[0;31m# Update record based on user input\u001b[0m\u001b[0;34m\u001b[0m\u001b[0;34m\u001b[0m\u001b[0m\n",
            "\u001b[0;32m<ipython-input-11-e9dba55ab983>\u001b[0m in \u001b[0;36mget_user_input\u001b[0;34m()\u001b[0m\n\u001b[1;32m     19\u001b[0m \u001b[0;32mdef\u001b[0m \u001b[0mget_user_input\u001b[0m\u001b[0;34m(\u001b[0m\u001b[0;34m)\u001b[0m\u001b[0;34m:\u001b[0m\u001b[0;34m\u001b[0m\u001b[0;34m\u001b[0m\u001b[0m\n\u001b[1;32m     20\u001b[0m     \u001b[0;32mwhile\u001b[0m \u001b[0;32mTrue\u001b[0m\u001b[0;34m:\u001b[0m\u001b[0;34m\u001b[0m\u001b[0;34m\u001b[0m\u001b[0m\n\u001b[0;32m---> 21\u001b[0;31m         \u001b[0muser_input\u001b[0m \u001b[0;34m=\u001b[0m \u001b[0minput\u001b[0m\u001b[0;34m(\u001b[0m\u001b[0;34m\"do you like this guitar chord? (y/n): \"\u001b[0m\u001b[0;34m)\u001b[0m\u001b[0;34m.\u001b[0m\u001b[0mstrip\u001b[0m\u001b[0;34m(\u001b[0m\u001b[0;34m)\u001b[0m\u001b[0;34m.\u001b[0m\u001b[0mlower\u001b[0m\u001b[0;34m(\u001b[0m\u001b[0;34m)\u001b[0m\u001b[0;34m\u001b[0m\u001b[0;34m\u001b[0m\u001b[0m\n\u001b[0m\u001b[1;32m     22\u001b[0m \u001b[0;34m\u001b[0m\u001b[0m\n\u001b[1;32m     23\u001b[0m         \u001b[0;32mif\u001b[0m \u001b[0muser_input\u001b[0m \u001b[0;32min\u001b[0m \u001b[0;34m[\u001b[0m\u001b[0;34m\"y\"\u001b[0m\u001b[0;34m,\u001b[0m \u001b[0;34m\"n\"\u001b[0m\u001b[0;34m]\u001b[0m\u001b[0;34m:\u001b[0m\u001b[0;34m\u001b[0m\u001b[0;34m\u001b[0m\u001b[0m\n",
            "\u001b[0;32m/usr/local/lib/python3.10/dist-packages/ipykernel/kernelbase.py\u001b[0m in \u001b[0;36mraw_input\u001b[0;34m(self, prompt)\u001b[0m\n\u001b[1;32m    849\u001b[0m                 \u001b[0;34m\"raw_input was called, but this frontend does not support input requests.\"\u001b[0m\u001b[0;34m\u001b[0m\u001b[0;34m\u001b[0m\u001b[0m\n\u001b[1;32m    850\u001b[0m             )\n\u001b[0;32m--> 851\u001b[0;31m         return self._input_request(str(prompt),\n\u001b[0m\u001b[1;32m    852\u001b[0m             \u001b[0mself\u001b[0m\u001b[0;34m.\u001b[0m\u001b[0m_parent_ident\u001b[0m\u001b[0;34m,\u001b[0m\u001b[0;34m\u001b[0m\u001b[0;34m\u001b[0m\u001b[0m\n\u001b[1;32m    853\u001b[0m             \u001b[0mself\u001b[0m\u001b[0;34m.\u001b[0m\u001b[0m_parent_header\u001b[0m\u001b[0;34m,\u001b[0m\u001b[0;34m\u001b[0m\u001b[0;34m\u001b[0m\u001b[0m\n",
            "\u001b[0;32m/usr/local/lib/python3.10/dist-packages/ipykernel/kernelbase.py\u001b[0m in \u001b[0;36m_input_request\u001b[0;34m(self, prompt, ident, parent, password)\u001b[0m\n\u001b[1;32m    893\u001b[0m             \u001b[0;32mexcept\u001b[0m \u001b[0mKeyboardInterrupt\u001b[0m\u001b[0;34m:\u001b[0m\u001b[0;34m\u001b[0m\u001b[0;34m\u001b[0m\u001b[0m\n\u001b[1;32m    894\u001b[0m                 \u001b[0;31m# re-raise KeyboardInterrupt, to truncate traceback\u001b[0m\u001b[0;34m\u001b[0m\u001b[0;34m\u001b[0m\u001b[0m\n\u001b[0;32m--> 895\u001b[0;31m                 \u001b[0;32mraise\u001b[0m \u001b[0mKeyboardInterrupt\u001b[0m\u001b[0;34m(\u001b[0m\u001b[0;34m\"Interrupted by user\"\u001b[0m\u001b[0;34m)\u001b[0m \u001b[0;32mfrom\u001b[0m \u001b[0;32mNone\u001b[0m\u001b[0;34m\u001b[0m\u001b[0;34m\u001b[0m\u001b[0m\n\u001b[0m\u001b[1;32m    896\u001b[0m             \u001b[0;32mexcept\u001b[0m \u001b[0mException\u001b[0m \u001b[0;32mas\u001b[0m \u001b[0me\u001b[0m\u001b[0;34m:\u001b[0m\u001b[0;34m\u001b[0m\u001b[0;34m\u001b[0m\u001b[0m\n\u001b[1;32m    897\u001b[0m                 \u001b[0mself\u001b[0m\u001b[0;34m.\u001b[0m\u001b[0mlog\u001b[0m\u001b[0;34m.\u001b[0m\u001b[0mwarning\u001b[0m\u001b[0;34m(\u001b[0m\u001b[0;34m\"Invalid Message:\"\u001b[0m\u001b[0;34m,\u001b[0m \u001b[0mexc_info\u001b[0m\u001b[0;34m=\u001b[0m\u001b[0;32mTrue\u001b[0m\u001b[0;34m)\u001b[0m\u001b[0;34m\u001b[0m\u001b[0;34m\u001b[0m\u001b[0m\n",
            "\u001b[0;31mKeyboardInterrupt\u001b[0m: Interrupted by user"
          ]
        }
      ]
    },
    {
      "cell_type": "code",
      "source": [
        "# @title set accepted ones to NULL\n",
        "run = False # @param {type:\"boolean\"}\n",
        "if run:\n",
        "    import sqlite3\n",
        "\n",
        "    def update_records(database_path):\n",
        "        try:\n",
        "            # Connect to the SQLite database\n",
        "            conn = sqlite3.connect(database_path)\n",
        "            cursor = conn.cursor()\n",
        "\n",
        "            # Update records where STATUS is 'accepted'\n",
        "            update_query = \"\"\"\n",
        "            UPDATE FINGER_ASCENDING\n",
        "            SET STATUS = NULL\n",
        "            WHERE STATUS = 'accepted';\n",
        "            \"\"\"\n",
        "            cursor.execute(update_query)\n",
        "\n",
        "            # Commit the changes and close the connection\n",
        "            conn.commit()\n",
        "            print(\"Records updated successfully.\")\n",
        "\n",
        "        except sqlite3.Error as error:\n",
        "            print(f\"Error occurred: {error}\")\n",
        "\n",
        "        finally:\n",
        "            if conn:\n",
        "                conn.close()\n",
        "\n",
        "    # Path to the database\n",
        "    database_path = '/content/creating_chord_collection/my_database.db'\n",
        "\n",
        "    # Update records\n",
        "    update_records(database_path)\n",
        "\n",
        "\n",
        "    import sqlite3\n",
        "\n",
        "    def count_null_values(database_path):\n",
        "        try:\n",
        "            # Connect to the SQLite database\n",
        "            conn = sqlite3.connect(database_path)\n",
        "            cursor = conn.cursor()\n",
        "\n",
        "            # Count NULL values in STATUS column\n",
        "            count_query = \"\"\"\n",
        "            SELECT COUNT(*)\n",
        "            FROM FINGER_ASCENDING\n",
        "            WHERE STATUS IS NULL;\n",
        "            \"\"\"\n",
        "            cursor.execute(count_query)\n",
        "            count = cursor.fetchone()[0]\n",
        "\n",
        "            # Print the count of NULL values\n",
        "            print(f\"Count of NULL values in STATUS column: {count}\")\n",
        "\n",
        "        except sqlite3.Error as error:\n",
        "            print(f\"Error occurred: {error}\")\n",
        "\n",
        "        finally:\n",
        "            if conn:\n",
        "                conn.close()\n",
        "\n",
        "    # Path to the database\n",
        "    database_path = '/content/creating_chord_collection/my_database.db'\n",
        "\n",
        "    # Count NULL values\n",
        "    count_null_values(database_path)\n"
      ],
      "metadata": {
        "cellView": "form",
        "id": "P_Jojw7VcOm9"
      },
      "execution_count": 10,
      "outputs": []
    }
  ]
}